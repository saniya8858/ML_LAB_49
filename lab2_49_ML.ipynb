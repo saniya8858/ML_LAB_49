{
  "nbformat": 4,
  "nbformat_minor": 0,
  "metadata": {
    "colab": {
      "provenance": [],
      "authorship_tag": "ABX9TyO/kdLHGIYE1tB8xRLxNuAF",
      "include_colab_link": true
    },
    "kernelspec": {
      "name": "python3",
      "display_name": "Python 3"
    },
    "language_info": {
      "name": "python"
    }
  },
  "cells": [
    {
      "cell_type": "markdown",
      "metadata": {
        "id": "view-in-github",
        "colab_type": "text"
      },
      "source": [
        "<a href=\"https://colab.research.google.com/github/saniya8858/ML_LAB_49/blob/main/lab2_49_ML.ipynb\" target=\"_parent\"><img src=\"https://colab.research.google.com/assets/colab-badge.svg\" alt=\"Open In Colab\"/></a>"
      ]
    },
    {
      "cell_type": "code",
      "execution_count": 14,
      "metadata": {
        "colab": {
          "base_uri": "https://localhost:8080/"
        },
        "id": "JwTeGHjpNSnm",
        "outputId": "22e359d5-b686-44c0-cfc9-f2e17e2228df"
      },
      "outputs": [
        {
          "output_type": "stream",
          "name": "stdout",
          "text": [
            "[1 2 3 4 5]\n",
            "[1.2 1.8 2.6 3.2 3.8]\n"
          ]
        }
      ],
      "source": [
        "import numpy as np\n",
        "import matplotlib.pyplot as plt\n",
        "y=np.array([1.2,1.8,2.6,3.2,3.8])\n",
        "x=np.array([1,2,3,4,5])\n",
        "print(x)\n",
        "print(y)"
      ]
    },
    {
      "cell_type": "code",
      "source": [
        "x_avg=np.average(x)\n",
        "y_avg=np.average(y)\n",
        "print(x_avg)\n",
        "print(y_avg)"
      ],
      "metadata": {
        "colab": {
          "base_uri": "https://localhost:8080/"
        },
        "id": "ZkxZ7eMCNjS2",
        "outputId": "b8bc0acf-3b2b-4eee-cc6a-c65602b8e847"
      },
      "execution_count": 15,
      "outputs": [
        {
          "output_type": "stream",
          "name": "stdout",
          "text": [
            "3.0\n",
            "2.5200000000000005\n"
          ]
        }
      ]
    },
    {
      "cell_type": "code",
      "source": [
        "x_hat=np.average(x**2)\n",
        "print(x_hat)"
      ],
      "metadata": {
        "colab": {
          "base_uri": "https://localhost:8080/"
        },
        "id": "YtW1AFhCNpMK",
        "outputId": "e1145cd7-98c7-4fbd-aa83-caa0373ffc59"
      },
      "execution_count": 3,
      "outputs": [
        {
          "output_type": "stream",
          "name": "stdout",
          "text": [
            "11.0\n"
          ]
        }
      ]
    },
    {
      "cell_type": "code",
      "source": [
        "y_hat=np.average(x*y)\n",
        "print(y_hat)"
      ],
      "metadata": {
        "colab": {
          "base_uri": "https://localhost:8080/"
        },
        "id": "7XjvIC2bNvJ1",
        "outputId": "92503062-e7e6-4af5-8e88-79b4c45a4462"
      },
      "execution_count": 4,
      "outputs": [
        {
          "output_type": "stream",
          "name": "stdout",
          "text": [
            "8.88\n"
          ]
        }
      ]
    },
    {
      "cell_type": "code",
      "source": [
        "a1=(x_hat*y_hat)-x_hat*y_hat\n",
        "print(a1)"
      ],
      "metadata": {
        "colab": {
          "base_uri": "https://localhost:8080/"
        },
        "id": "ROrrIBLTN0i-",
        "outputId": "147ed15d-328d-4994-cec7-ff1476f741e3"
      },
      "execution_count": 5,
      "outputs": [
        {
          "output_type": "stream",
          "name": "stdout",
          "text": [
            "0.0\n"
          ]
        }
      ]
    },
    {
      "cell_type": "code",
      "source": [
        "a0=y_hat-a1*x_hat\n",
        "print(a0)"
      ],
      "metadata": {
        "colab": {
          "base_uri": "https://localhost:8080/"
        },
        "id": "b4ced5UqN5Aj",
        "outputId": "fc4e802a-2071-4b70-b8a6-e8f8e032d2b2"
      },
      "execution_count": 6,
      "outputs": [
        {
          "output_type": "stream",
          "name": "stdout",
          "text": [
            "8.88\n"
          ]
        }
      ]
    },
    {
      "cell_type": "code",
      "source": [
        "a1=((y_hat)-(x_avg)*(y_avg))/((x_hat)-(x_avg*x_avg))"
      ],
      "metadata": {
        "id": "3R3xko5uN-Vr"
      },
      "execution_count": 7,
      "outputs": []
    },
    {
      "cell_type": "code",
      "source": [
        "a0=(y_avg)-a1*(x_avg)"
      ],
      "metadata": {
        "id": "En3Ndh5ZOBFP"
      },
      "execution_count": 8,
      "outputs": []
    },
    {
      "cell_type": "code",
      "source": [
        "print(a1)"
      ],
      "metadata": {
        "colab": {
          "base_uri": "https://localhost:8080/"
        },
        "id": "MphNQH0tOHdK",
        "outputId": "ec569022-644f-46ee-f8b6-f4e379e09c18"
      },
      "execution_count": 9,
      "outputs": [
        {
          "output_type": "stream",
          "name": "stdout",
          "text": [
            "0.6599999999999997\n"
          ]
        }
      ]
    },
    {
      "cell_type": "code",
      "source": [
        "print(a0)"
      ],
      "metadata": {
        "colab": {
          "base_uri": "https://localhost:8080/"
        },
        "id": "rWQkEvuUOLai",
        "outputId": "2af18a9e-eb20-45e7-92e5-4bd6030d7c72"
      },
      "execution_count": 10,
      "outputs": [
        {
          "output_type": "stream",
          "name": "stdout",
          "text": [
            "0.5400000000000014\n"
          ]
        }
      ]
    },
    {
      "cell_type": "code",
      "source": [
        "y=a0+a1*x"
      ],
      "metadata": {
        "id": "GEh8rBFhOPBx"
      },
      "execution_count": 12,
      "outputs": []
    },
    {
      "cell_type": "code",
      "source": [
        "x=7\n",
        "y=a0+a1*x\n",
        "print(y)"
      ],
      "metadata": {
        "id": "qO8JhM23Ods1",
        "outputId": "440770e7-61c7-44ab-b123-36747c60fd36",
        "colab": {
          "base_uri": "https://localhost:8080/"
        }
      },
      "execution_count": 16,
      "outputs": [
        {
          "output_type": "stream",
          "name": "stdout",
          "text": [
            "5.159999999999998\n"
          ]
        }
      ]
    },
    {
      "cell_type": "code",
      "source": [
        "x=12\n",
        "y=a0+a1*x\n",
        "print(y)"
      ],
      "metadata": {
        "id": "Zkxr-qcxOipS",
        "outputId": "99d088d0-8112-45ff-d912-3fe439c68d4d",
        "colab": {
          "base_uri": "https://localhost:8080/"
        }
      },
      "execution_count": 17,
      "outputs": [
        {
          "output_type": "stream",
          "name": "stdout",
          "text": [
            "8.459999999999997\n"
          ]
        }
      ]
    },
    {
      "cell_type": "code",
      "source": [
        "import numpy as np\n",
        "x=np.array([[[1,1],[1,3],[3,4],[4,8]]])\n",
        "print(x)\n",
        "print(type(x))\n",
        "print(x.ndim)"
      ],
      "metadata": {
        "id": "83cYGLYDOmBM",
        "outputId": "8e120286-8217-47a5-f295-199f2cfe438c",
        "colab": {
          "base_uri": "https://localhost:8080/"
        }
      },
      "execution_count": 18,
      "outputs": [
        {
          "output_type": "stream",
          "name": "stdout",
          "text": [
            "[[[1 1]\n",
            "  [1 3]\n",
            "  [3 4]\n",
            "  [4 8]]]\n",
            "<class 'numpy.ndarray'>\n",
            "3\n"
          ]
        }
      ]
    },
    {
      "cell_type": "code",
      "source": [
        "import numpy as np\n",
        "y=np.array([1,3,4,8])\n",
        "print(y)\n",
        "print(type(y))\n",
        "print(y.ndim)"
      ],
      "metadata": {
        "id": "rO3b-wY9OvVz",
        "outputId": "7f8b186e-54a4-45d9-d3ed-ad0337e42321",
        "colab": {
          "base_uri": "https://localhost:8080/"
        }
      },
      "execution_count": 19,
      "outputs": [
        {
          "output_type": "stream",
          "name": "stdout",
          "text": [
            "[1 3 4 8]\n",
            "<class 'numpy.ndarray'>\n",
            "1\n"
          ]
        }
      ]
    },
    {
      "cell_type": "code",
      "source": [
        "import numpy as np\n",
        "xtrans=np.transpose(x)\n",
        "print(xtrans)"
      ],
      "metadata": {
        "id": "AdGQjLobO0Ns",
        "outputId": "fd4e1eac-4a5b-4b19-97ac-c5c41461ec72",
        "colab": {
          "base_uri": "https://localhost:8080/"
        }
      },
      "execution_count": 20,
      "outputs": [
        {
          "output_type": "stream",
          "name": "stdout",
          "text": [
            "[[[1]\n",
            "  [1]\n",
            "  [3]\n",
            "  [4]]\n",
            "\n",
            " [[1]\n",
            "  [3]\n",
            "  [4]\n",
            "  [8]]]\n"
          ]
        }
      ]
    },
    {
      "cell_type": "code",
      "source": [
        "import numpy as np\n",
        "x=np.array([[[1,2,3],[4,5,6],[7,8,9]]])\n",
        "print(x)\n",
        "print(type(x))\n",
        "print(x.ndim)"
      ],
      "metadata": {
        "id": "gJnYUyDLO4TM",
        "outputId": "cc700d76-17cf-4a65-e5c3-0d05779f7d13",
        "colab": {
          "base_uri": "https://localhost:8080/"
        }
      },
      "execution_count": 21,
      "outputs": [
        {
          "output_type": "stream",
          "name": "stdout",
          "text": [
            "[[[1 2 3]\n",
            "  [4 5 6]\n",
            "  [7 8 9]]]\n",
            "<class 'numpy.ndarray'>\n",
            "3\n"
          ]
        }
      ]
    },
    {
      "cell_type": "code",
      "source": [
        "import numpy as np\n",
        "x=np.array([1,2,3,4,5])\n",
        "s=np.sum(x)\n",
        "print(s)\n",
        "n=len(x)\n",
        "#p=np.sum(x)\n",
        "r=np.divide(s,n)\n",
        "print(r)"
      ],
      "metadata": {
        "id": "EJzdTzWqO6Xe",
        "outputId": "e14a9306-b368-4e1d-db19-6722bcda07d6",
        "colab": {
          "base_uri": "https://localhost:8080/"
        }
      },
      "execution_count": 22,
      "outputs": [
        {
          "output_type": "stream",
          "name": "stdout",
          "text": [
            "15\n",
            "3.0\n"
          ]
        }
      ]
    },
    {
      "cell_type": "code",
      "source": [
        "import numpy as np\n",
        "x=np.array([[[1,2,3],[4,5,6],[7,8,9]]])\n",
        "y=np.array([[[3,4,6],[8,7,5],[9,8,10]]])\n",
        "n=np.add(x,y)\n",
        "z=np.prod(x)\n",
        "print(n)\n",
        "print(z)"
      ],
      "metadata": {
        "id": "o4juVqnXO-6H",
        "outputId": "9b5c143c-ad32-4344-da38-4bea20b379b5",
        "colab": {
          "base_uri": "https://localhost:8080/"
        }
      },
      "execution_count": 23,
      "outputs": [
        {
          "output_type": "stream",
          "name": "stdout",
          "text": [
            "[[[ 4  6  9]\n",
            "  [12 12 11]\n",
            "  [16 16 19]]]\n",
            "362880\n"
          ]
        }
      ]
    },
    {
      "cell_type": "code",
      "source": [
        "import numpy as np\n",
        "import matplotlimport numpy as np\n",
        "import matplotlib.pyplot as plt\n",
        "x=np.array([1,2,3,4,5])\n",
        "y=np.array([1.2,1.8,2.6,3.2,3.8])\n",
        "plt.plot(x,y)\n",
        "plt.show()\n",
        "xsum=np.sum(x)\n",
        "ysum=np.sum(y)\n",
        "xavg=np.average(x)\n",
        "yavg=np.average(y)\n",
        "xy=np.prod(x,y)\n",
        "xysum=np.sum(xy)\n",
        "xyavg=np.average(xy)\n",
        "num=xyavg\n",
        "y=np."
      ],
      "metadata": {
        "id": "v-z0sFTtPEXJ",
        "outputId": "42712688-59a9-4cf2-9c78-6a537a2d7d6b",
        "colab": {
          "base_uri": "https://localhost:8080/",
          "height": 105
        }
      },
      "execution_count": 25,
      "outputs": [
        {
          "output_type": "error",
          "ename": "SyntaxError",
          "evalue": "invalid syntax (<ipython-input-25-bfbe9a4d8efc>, line 2)",
          "traceback": [
            "\u001b[0;36m  File \u001b[0;32m\"<ipython-input-25-bfbe9a4d8efc>\"\u001b[0;36m, line \u001b[0;32m2\u001b[0m\n\u001b[0;31m    import matplotlimport numpy as np\u001b[0m\n\u001b[0m                          ^\u001b[0m\n\u001b[0;31mSyntaxError\u001b[0m\u001b[0;31m:\u001b[0m invalid syntax\n"
          ]
        }
      ]
    },
    {
      "cell_type": "code",
      "source": [
        "import numpy as np\n",
        "import matplotlib.pyplot as plt\n",
        "x=np.array([1,2,3,4,5])\n",
        "y=np.array([1.2,1.8,2.6,3.2,3.8])\n",
        "plt.plot(x,y)\n",
        "plt.show()\n",
        "xsum=np.sum(x)\n",
        "ysum=np.sum(y)\n",
        "xavg=np.average(x)\n",
        "yavg=np.average(y)\n",
        "xy=np.prod(x,y)\n",
        "xysum=np.sum(xy)\n",
        "xyavg=np.average(xy)\n",
        "num=xyavg"
      ],
      "metadata": {
        "id": "hbsCreDLPJGc",
        "outputId": "02709ff2-9f30-467c-ec9a-6ae2ec6ed58e",
        "colab": {
          "base_uri": "https://localhost:8080/",
          "height": 763
        }
      },
      "execution_count": 26,
      "outputs": [
        {
          "output_type": "display_data",
          "data": {
            "text/plain": [
              "<Figure size 640x480 with 1 Axes>"
            ],
            "image/png": "[encoded data removed]"
          },
          "metadata": {}
        },
        {
          "output_type": "error",
          "ename": "TypeError",
          "evalue": "only integer scalar arrays can be converted to a scalar index",
          "traceback": [
            "\u001b[0;31m---------------------------------------------------------------------------\u001b[0m",
            "\u001b[0;31mTypeError\u001b[0m                                 Traceback (most recent call last)",
            "\u001b[0;32m<ipython-input-26-88f2824e6911>\u001b[0m in \u001b[0;36m<cell line: 11>\u001b[0;34m()\u001b[0m\n\u001b[1;32m      9\u001b[0m \u001b[0mxavg\u001b[0m\u001b[0;34m=\u001b[0m\u001b[0mnp\u001b[0m\u001b[0;34m.\u001b[0m\u001b[0maverage\u001b[0m\u001b[0;34m(\u001b[0m\u001b[0mx\u001b[0m\u001b[0;34m)\u001b[0m\u001b[0;34m\u001b[0m\u001b[0;34m\u001b[0m\u001b[0m\n\u001b[1;32m     10\u001b[0m \u001b[0myavg\u001b[0m\u001b[0;34m=\u001b[0m\u001b[0mnp\u001b[0m\u001b[0;34m.\u001b[0m\u001b[0maverage\u001b[0m\u001b[0;34m(\u001b[0m\u001b[0my\u001b[0m\u001b[0;34m)\u001b[0m\u001b[0;34m\u001b[0m\u001b[0;34m\u001b[0m\u001b[0m\n\u001b[0;32m---> 11\u001b[0;31m \u001b[0mxy\u001b[0m\u001b[0;34m=\u001b[0m\u001b[0mnp\u001b[0m\u001b[0;34m.\u001b[0m\u001b[0mprod\u001b[0m\u001b[0;34m(\u001b[0m\u001b[0mx\u001b[0m\u001b[0;34m,\u001b[0m\u001b[0my\u001b[0m\u001b[0;34m)\u001b[0m\u001b[0;34m\u001b[0m\u001b[0;34m\u001b[0m\u001b[0m\n\u001b[0m\u001b[1;32m     12\u001b[0m \u001b[0mxysum\u001b[0m\u001b[0;34m=\u001b[0m\u001b[0mnp\u001b[0m\u001b[0;34m.\u001b[0m\u001b[0msum\u001b[0m\u001b[0;34m(\u001b[0m\u001b[0mxy\u001b[0m\u001b[0;34m)\u001b[0m\u001b[0;34m\u001b[0m\u001b[0;34m\u001b[0m\u001b[0m\n\u001b[1;32m     13\u001b[0m \u001b[0mxyavg\u001b[0m\u001b[0;34m=\u001b[0m\u001b[0mnp\u001b[0m\u001b[0;34m.\u001b[0m\u001b[0maverage\u001b[0m\u001b[0;34m(\u001b[0m\u001b[0mxy\u001b[0m\u001b[0;34m)\u001b[0m\u001b[0;34m\u001b[0m\u001b[0;34m\u001b[0m\u001b[0m\n",
            "\u001b[0;32m/usr/local/lib/python3.10/dist-packages/numpy/core/fromnumeric.py\u001b[0m in \u001b[0;36mprod\u001b[0;34m(a, axis, dtype, out, keepdims, initial, where)\u001b[0m\n\u001b[1;32m   3098\u001b[0m     \u001b[0;36m10\u001b[0m\u001b[0;34m\u001b[0m\u001b[0;34m\u001b[0m\u001b[0m\n\u001b[1;32m   3099\u001b[0m     \"\"\"\n\u001b[0;32m-> 3100\u001b[0;31m     return _wrapreduction(a, np.multiply, 'prod', axis, dtype, out,\n\u001b[0m\u001b[1;32m   3101\u001b[0m                           keepdims=keepdims, initial=initial, where=where)\n\u001b[1;32m   3102\u001b[0m \u001b[0;34m\u001b[0m\u001b[0m\n",
            "\u001b[0;32m/usr/local/lib/python3.10/dist-packages/numpy/core/fromnumeric.py\u001b[0m in \u001b[0;36m_wrapreduction\u001b[0;34m(obj, ufunc, method, axis, dtype, out, **kwargs)\u001b[0m\n\u001b[1;32m     86\u001b[0m                 \u001b[0;32mreturn\u001b[0m \u001b[0mreduction\u001b[0m\u001b[0;34m(\u001b[0m\u001b[0maxis\u001b[0m\u001b[0;34m=\u001b[0m\u001b[0maxis\u001b[0m\u001b[0;34m,\u001b[0m \u001b[0mout\u001b[0m\u001b[0;34m=\u001b[0m\u001b[0mout\u001b[0m\u001b[0;34m,\u001b[0m \u001b[0;34m**\u001b[0m\u001b[0mpasskwargs\u001b[0m\u001b[0;34m)\u001b[0m\u001b[0;34m\u001b[0m\u001b[0;34m\u001b[0m\u001b[0m\n\u001b[1;32m     87\u001b[0m \u001b[0;34m\u001b[0m\u001b[0m\n\u001b[0;32m---> 88\u001b[0;31m     \u001b[0;32mreturn\u001b[0m \u001b[0mufunc\u001b[0m\u001b[0;34m.\u001b[0m\u001b[0mreduce\u001b[0m\u001b[0;34m(\u001b[0m\u001b[0mobj\u001b[0m\u001b[0;34m,\u001b[0m \u001b[0maxis\u001b[0m\u001b[0;34m,\u001b[0m \u001b[0mdtype\u001b[0m\u001b[0;34m,\u001b[0m \u001b[0mout\u001b[0m\u001b[0;34m,\u001b[0m \u001b[0;34m**\u001b[0m\u001b[0mpasskwargs\u001b[0m\u001b[0;34m)\u001b[0m\u001b[0;34m\u001b[0m\u001b[0;34m\u001b[0m\u001b[0m\n\u001b[0m\u001b[1;32m     89\u001b[0m \u001b[0;34m\u001b[0m\u001b[0m\n\u001b[1;32m     90\u001b[0m \u001b[0;34m\u001b[0m\u001b[0m\n",
            "\u001b[0;31mTypeError\u001b[0m: only integer scalar arrays can be converted to a scalar index"
          ]
        }
      ]
    },
    {
      "cell_type": "markdown",
      "source": [
        "Linear Regression Model Representation"
      ],
      "metadata": {
        "id": "h7BfXSBYP2Dy"
      }
    },
    {
      "cell_type": "code",
      "source": [
        "import numpy as np\n",
        "import matplotlib.pyplot as plt"
      ],
      "metadata": {
        "id": "3BC2bFDfP27p"
      },
      "execution_count": 27,
      "outputs": []
    },
    {
      "cell_type": "code",
      "source": [
        "import numpy as np\n",
        "import matplotlib.pyplot as plt"
      ],
      "metadata": {
        "id": "PTz1UomXQUy-"
      },
      "execution_count": 28,
      "outputs": []
    },
    {
      "cell_type": "code",
      "source": [
        "# x_train is the input variable (size in 1000 square feet)\n",
        "# y_train is the target (price in 1000s of dollars)\n",
        "x_train = np.array([1.0, 2.0, 3.0])\n",
        "y_train = np.array([300.0, 500.0, 800.0])\n",
        "print(f\"x_train = {x_train}\")\n",
        "print(f\"y_train = {y_train}\")"
      ],
      "metadata": {
        "id": "5fi2u_VwQXtw",
        "outputId": "f2fd14a2-c442-4f86-df2b-4eab0c188327",
        "colab": {
          "base_uri": "https://localhost:8080/"
        }
      },
      "execution_count": 29,
      "outputs": [
        {
          "output_type": "stream",
          "name": "stdout",
          "text": [
            "x_train = [1. 2. 3.]\n",
            "y_train = [300. 500. 800.]\n"
          ]
        }
      ]
    },
    {
      "cell_type": "code",
      "source": [
        "# x_train is the input variable (size in 1000 square feet)\n",
        "# y_train is the target (price in 1000s of dollars)\n",
        "x_train = np.array([1.0, 2.0, 3.0])\n",
        "y_train = np.array([300.0, 500.0, 800.0])\n",
        "print(f\"x_train = {x_train}\")\n",
        "print(f\"y_train = {y_train}\")"
      ],
      "metadata": {
        "id": "Gi-nUgLXQdrI",
        "outputId": "a8ae2444-352a-48a8-8346-adaf558d231b",
        "colab": {
          "base_uri": "https://localhost:8080/"
        }
      },
      "execution_count": 30,
      "outputs": [
        {
          "output_type": "stream",
          "name": "stdout",
          "text": [
            "x_train = [1. 2. 3.]\n",
            "y_train = [300. 500. 800.]\n"
          ]
        }
      ]
    },
    {
      "cell_type": "code",
      "source": [
        "import numpy as np\n",
        "import matplotlib.pyplot as plt\n",
        "\n",
        "\n",
        "x_train = np.array([1.0, 2.0, 3.0,5.0,8.0])\n",
        "y_train = np.array([300.0, 500.0, 800.0,900.0, 500.0])\n",
        "print(f\"x_train = {x_train}\")\n",
        "print(f\"y_train = {y_train}\")\n"
      ],
      "metadata": {
        "id": "w2Bzh9pWQiaE",
        "outputId": "540b9676-6f98-45f4-d843-7961b37d2aef",
        "colab": {
          "base_uri": "https://localhost:8080/"
        }
      },
      "execution_count": 31,
      "outputs": [
        {
          "output_type": "stream",
          "name": "stdout",
          "text": [
            "x_train = [1. 2. 3. 5. 8.]\n",
            "y_train = [300. 500. 800. 900. 500.]\n"
          ]
        }
      ]
    },
    {
      "cell_type": "code",
      "source": [
        "# m is the number of training examples\n",
        "print(f\"x_train.shape: {x_train.shape}\")\n",
        "m = x_train.shape[0]\n",
        "print(f\"Number of training examples is: {m}\")"
      ],
      "metadata": {
        "id": "H12o2oRBQqyw",
        "outputId": "428b43f2-9fba-481d-910b-7e1da79de07b",
        "colab": {
          "base_uri": "https://localhost:8080/"
        }
      },
      "execution_count": 32,
      "outputs": [
        {
          "output_type": "stream",
          "name": "stdout",
          "text": [
            "x_train.shape: (5,)\n",
            "Number of training examples is: 5\n"
          ]
        }
      ]
    },
    {
      "cell_type": "code",
      "source": [
        "# m is the number of training examples\n",
        "m = len(x_train)\n",
        "print(f\"Number of training examples is: {m}\")"
      ],
      "metadata": {
        "id": "ScKE_F2XQsb-",
        "outputId": "96e754f4-d3d0-4df8-8cb7-3495e6dd8864",
        "colab": {
          "base_uri": "https://localhost:8080/"
        }
      },
      "execution_count": 33,
      "outputs": [
        {
          "output_type": "stream",
          "name": "stdout",
          "text": [
            "Number of training examples is: 5\n"
          ]
        }
      ]
    },
    {
      "cell_type": "code",
      "source": [
        "i = 0 # Change this to 1 to see (x^1, y^1)\n",
        "\n",
        "x_i = x_train[i]\n",
        "y_i = y_train[i]\n",
        "print(f\"(x^({i}), y^({i})) = ({x_i}, {y_i})\")"
      ],
      "metadata": {
        "id": "B7ODLkPBQxFc",
        "outputId": "4d834f98-af5c-4e24-ea92-4e6a40788f1d",
        "colab": {
          "base_uri": "https://localhost:8080/"
        }
      },
      "execution_count": 34,
      "outputs": [
        {
          "output_type": "stream",
          "name": "stdout",
          "text": [
            "(x^(0), y^(0)) = (1.0, 300.0)\n"
          ]
        }
      ]
    },
    {
      "cell_type": "code",
      "source": [
        "# Plot the data points\n",
        "plt.scatter(x_train,y_train, marker='x', c='r')\n",
        "# Set the title\n",
        "plt.title(\"Housing Prices\")\n",
        "# Set the y-axis label\n",
        "plt.ylabel('Price (in 1000s of dollars)')\n",
        "# Set the x-axis label\n",
        "plt.xlabel('Size (1000 sqft)')\n",
        "plt.show()"
      ],
      "metadata": {
        "id": "ZrgUOBb6Q2ae",
        "outputId": "ab2e43f7-ac49-4c44-fef5-70b3ac054416",
        "colab": {
          "base_uri": "https://localhost:8080/",
          "height": 472
        }
      },
      "execution_count": 35,
      "outputs": [
        {
          "output_type": "display_data",
          "data": {
            "text/plain": [
              "<Figure size 640x480 with 1 Axes>"
            ],
            "image/png": "[encoded data removed]"
          },
          "metadata": {}
        }
      ]
    },
    {
      "cell_type": "code",
      "source": [
        "w = 100\n",
        "b = 100\n",
        "print(f\"w: {w}\")\n",
        "print(f\"b: {b}\")"
      ],
      "metadata": {
        "id": "7weWFf8iQ6XS",
        "outputId": "d3c1617b-ec7a-46be-fba5-468b34ca36d9",
        "colab": {
          "base_uri": "https://localhost:8080/"
        }
      },
      "execution_count": 36,
      "outputs": [
        {
          "output_type": "stream",
          "name": "stdout",
          "text": [
            "w: 100\n",
            "b: 100\n"
          ]
        }
      ]
    },
    {
      "cell_type": "code",
      "source": [
        "def compute_model_output(x,w,b):\n",
        "  m = x.shape[0]\n",
        "  f_wb= np.zeros(m)\n",
        "  for i in range(m):\n",
        "    f_wb[i] =w* x[i] +b"
      ],
      "metadata": {
        "id": "OvHrprx_RBpf"
      },
      "execution_count": 37,
      "outputs": []
    },
    {
      "cell_type": "code",
      "source": [
        "def compute_model_output(x, w, b):\n",
        "    \"\"\"\n",
        "    Computes the prediction of a linear model\n",
        "    Args:_\n",
        "      x (ndarray (m,)): Data, m examples\n",
        "      w,b (scalar)    : model parameters\n",
        "    Returns\n",
        "      f_wb (ndarray (m,)): model prediction\n",
        "    \"\"\"\n",
        "    m = x.shape[0]\n",
        "    f_wb = np.zeros(m)\n",
        "    for i in range(m):\n",
        "        f_wb[i] = w * x[i] + b\n",
        "\n",
        "    return f_wb"
      ],
      "metadata": {
        "id": "Z27qt8pDRDdp"
      },
      "execution_count": 38,
      "outputs": []
    },
    {
      "cell_type": "code",
      "source": [
        "tmp_f_wb"
      ],
      "metadata": {
        "id": "dRGJNBDvRHHU",
        "outputId": "0685d6a7-593d-4d39-bdec-ddb39268c7e8",
        "colab": {
          "base_uri": "https://localhost:8080/",
          "height": 139
        }
      },
      "execution_count": 39,
      "outputs": [
        {
          "output_type": "error",
          "ename": "NameError",
          "evalue": "name 'tmp_f_wb' is not defined",
          "traceback": [
            "\u001b[0;31m---------------------------------------------------------------------------\u001b[0m",
            "\u001b[0;31mNameError\u001b[0m                                 Traceback (most recent call last)",
            "\u001b[0;32m<ipython-input-39-71a4c1975080>\u001b[0m in \u001b[0;36m<cell line: 1>\u001b[0;34m()\u001b[0m\n\u001b[0;32m----> 1\u001b[0;31m \u001b[0mtmp_f_wb\u001b[0m\u001b[0;34m\u001b[0m\u001b[0;34m\u001b[0m\u001b[0m\n\u001b[0m",
            "\u001b[0;31mNameError\u001b[0m: name 'tmp_f_wb' is not defined"
          ]
        }
      ]
    },
    {
      "cell_type": "code",
      "source": [
        "tmp_f_wb = compute_model_output(x_train, w, b,)\n",
        "\n",
        "# Plot our model prediction\n",
        "plt.plot(x_train, tmp_f_wb, c='b',label='Our Prediction')\n",
        "\n",
        "# Plot the data points\n",
        "plt.scatter(x_train, y_train, marker='x', c='r',label='Actual Values')\n",
        "\n",
        "# Set the title\n",
        "plt.title(\"Housing Prices\")\n",
        "# Set the y-axis label\n",
        "plt.ylabel('Price (in 1000s of dollars)')\n",
        "# Set the x-axis label\n",
        "plt.xlabel('Size (1000 sqft)')\n",
        "plt.legend()\n",
        "plt.show()"
      ],
      "metadata": {
        "id": "A1ML133mRQTO",
        "outputId": "748dbcf9-edb7-47f4-dd8a-9972583d9cd8",
        "colab": {
          "base_uri": "https://localhost:8080/",
          "height": 472
        }
      },
      "execution_count": 40,
      "outputs": [
        {
          "output_type": "display_data",
          "data": {
            "text/plain": [
              "<Figure size 640x480 with 1 Axes>"
            ],
            "image/png": "[encoded data removed]"
          },
          "metadata": {}
        }
      ]
    },
    {
      "cell_type": "code",
      "source": [
        "w = 200\n",
        "b = 100\n",
        "x_i = 1.2\n",
        "cost_1200sqft = w * x_i + b\n",
        "\n",
        "print(f\"${cost_1200sqft:.0f} thousand dollars\")"
      ],
      "metadata": {
        "id": "J_xqGw7QRVIB",
        "outputId": "559bf211-d43f-450a-e971-6a476fcc69f4",
        "colab": {
          "base_uri": "https://localhost:8080/"
        }
      },
      "execution_count": 41,
      "outputs": [
        {
          "output_type": "stream",
          "name": "stdout",
          "text": [
            "$340 thousand dollars\n"
          ]
        }
      ]
    },
    {
      "cell_type": "code",
      "source": [
        "# Define the function to optimize\n",
        "def f(x):\n",
        "  return x**2\n",
        "\n",
        "# Define the derivative of the function\n",
        "def df(x):\n",
        "  return 2*x\n",
        "\n",
        "# Initialize parameters\n",
        "learning_rate = 0.1\n",
        "num_iterations = 100\n",
        "initial_x = 5\n",
        "\n",
        "# Gradient descent loop\n",
        "x = initial_x\n",
        "for i in range(num_iterations):\n",
        "  gradient = df(x)\n",
        "  x = x - learning_rate * gradient\n",
        "  print(f\"Iteration {i+1}: x = {x}, f(x) = {f(x)}\")\n",
        "\n",
        "print(f\"Final value: x = {x}, f(x) = {f(x)}\")"
      ],
      "metadata": {
        "id": "kFrfD-SBRZhb",
        "outputId": "503705c7-1870-4c3c-9e65-6272814af69a",
        "colab": {
          "base_uri": "https://localhost:8080/"
        }
      },
      "execution_count": 42,
      "outputs": [
        {
          "output_type": "stream",
          "name": "stdout",
          "text": [
            "Iteration 1: x = 4.0, f(x) = 16.0\n",
            "Iteration 2: x = 3.2, f(x) = 10.240000000000002\n",
            "Iteration 3: x = 2.56, f(x) = 6.5536\n",
            "Iteration 4: x = 2.048, f(x) = 4.194304\n",
            "Iteration 5: x = 1.6384, f(x) = 2.68435456\n",
            "Iteration 6: x = 1.31072, f(x) = 1.7179869184000003\n",
            "Iteration 7: x = 1.0485760000000002, f(x) = 1.0995116277760004\n",
            "Iteration 8: x = 0.8388608000000002, f(x) = 0.7036874417766403\n",
            "Iteration 9: x = 0.6710886400000001, f(x) = 0.45035996273704976\n",
            "Iteration 10: x = 0.5368709120000001, f(x) = 0.2882303761517119\n",
            "Iteration 11: x = 0.4294967296000001, f(x) = 0.18446744073709562\n",
            "Iteration 12: x = 0.3435973836800001, f(x) = 0.11805916207174119\n",
            "Iteration 13: x = 0.27487790694400005, f(x) = 0.07555786372591435\n",
            "Iteration 14: x = 0.21990232555520003, f(x) = 0.04835703278458518\n",
            "Iteration 15: x = 0.17592186044416003, f(x) = 0.030948500982134516\n",
            "Iteration 16: x = 0.140737488355328, f(x) = 0.019807040628566086\n",
            "Iteration 17: x = 0.11258999068426241, f(x) = 0.012676506002282296\n",
            "Iteration 18: x = 0.09007199254740993, f(x) = 0.00811296384146067\n",
            "Iteration 19: x = 0.07205759403792794, f(x) = 0.005192296858534828\n",
            "Iteration 20: x = 0.057646075230342354, f(x) = 0.0033230699894622904\n",
            "Iteration 21: x = 0.04611686018427388, f(x) = 0.0021267647932558657\n",
            "Iteration 22: x = 0.03689348814741911, f(x) = 0.0013611294676837541\n",
            "Iteration 23: x = 0.029514790517935284, f(x) = 0.0008711228593176025\n",
            "Iteration 24: x = 0.02361183241434823, f(x) = 0.0005575186299632657\n",
            "Iteration 25: x = 0.018889465931478583, f(x) = 0.00035681192317649007\n",
            "Iteration 26: x = 0.015111572745182867, f(x) = 0.00022835963083295366\n",
            "Iteration 27: x = 0.012089258196146294, f(x) = 0.00014615016373309035\n",
            "Iteration 28: x = 0.009671406556917036, f(x) = 9.353610478917783e-05\n",
            "Iteration 29: x = 0.007737125245533628, f(x) = 5.9863107065073806e-05\n",
            "Iteration 30: x = 0.006189700196426903, f(x) = 3.8312388521647236e-05\n",
            "Iteration 31: x = 0.004951760157141522, f(x) = 2.4519928653854235e-05\n",
            "Iteration 32: x = 0.003961408125713218, f(x) = 1.5692754338466713e-05\n",
            "Iteration 33: x = 0.0031691265005705745, f(x) = 1.0043362776618696e-05\n",
            "Iteration 34: x = 0.00253530120045646, f(x) = 6.427752177035966e-06\n",
            "Iteration 35: x = 0.0020282409603651678, f(x) = 4.113761393303018e-06\n",
            "Iteration 36: x = 0.0016225927682921343, f(x) = 2.6328072917139318e-06\n",
            "Iteration 37: x = 0.0012980742146337075, f(x) = 1.6849966666969164e-06\n",
            "Iteration 38: x = 0.001038459371706966, f(x) = 1.0783978666860266e-06\n",
            "Iteration 39: x = 0.0008307674973655728, f(x) = 6.901746346790571e-07\n",
            "Iteration 40: x = 0.0006646139978924582, f(x) = 4.4171176619459645e-07\n",
            "Iteration 41: x = 0.0005316911983139665, f(x) = 2.826955303645417e-07\n",
            "Iteration 42: x = 0.00042535295865117324, f(x) = 1.809251394333067e-07\n",
            "Iteration 43: x = 0.0003402823669209386, f(x) = 1.1579208923731628e-07\n",
            "Iteration 44: x = 0.00027222589353675085, f(x) = 7.410693711188241e-08\n",
            "Iteration 45: x = 0.0002177807148294007, f(x) = 4.7428439751604744e-08\n",
            "Iteration 46: x = 0.00017422457186352054, f(x) = 3.0354201441027036e-08\n",
            "Iteration 47: x = 0.00013937965749081642, f(x) = 1.94266889222573e-08\n",
            "Iteration 48: x = 0.00011150372599265314, f(x) = 1.2433080910244672e-08\n",
            "Iteration 49: x = 8.920298079412252e-05, f(x) = 7.95717178255659e-09\n",
            "Iteration 50: x = 7.136238463529802e-05, f(x) = 5.092589940836218e-09\n",
            "Iteration 51: x = 5.7089907708238416e-05, f(x) = 3.2592575621351803e-09\n",
            "Iteration 52: x = 4.567192616659073e-05, f(x) = 2.085924839766515e-09\n",
            "Iteration 53: x = 3.653754093327259e-05, f(x) = 1.3349918974505697e-09\n",
            "Iteration 54: x = 2.923003274661807e-05, f(x) = 8.543948143683647e-10\n",
            "Iteration 55: x = 2.3384026197294454e-05, f(x) = 5.468126811957533e-10\n",
            "Iteration 56: x = 1.8707220957835564e-05, f(x) = 3.4996011596528213e-10\n",
            "Iteration 57: x = 1.4965776766268452e-05, f(x) = 2.239744742177806e-10\n",
            "Iteration 58: x = 1.1972621413014761e-05, f(x) = 1.4334366349937958e-10\n",
            "Iteration 59: x = 9.578097130411809e-06, f(x) = 9.173994463960292e-11\n",
            "Iteration 60: x = 7.662477704329448e-06, f(x) = 5.871356456934588e-11\n",
            "Iteration 61: x = 6.129982163463559e-06, f(x) = 3.757668132438137e-11\n",
            "Iteration 62: x = 4.903985730770847e-06, f(x) = 2.404907604760408e-11\n",
            "Iteration 63: x = 3.923188584616677e-06, f(x) = 1.539140867046661e-11\n",
            "Iteration 64: x = 3.138550867693342e-06, f(x) = 9.850501549098629e-12\n",
            "Iteration 65: x = 2.5108406941546735e-06, f(x) = 6.304320991423123e-12\n",
            "Iteration 66: x = 2.008672555323739e-06, f(x) = 4.034765434510799e-12\n",
            "Iteration 67: x = 1.606938044258991e-06, f(x) = 2.5822498780869114e-12\n",
            "Iteration 68: x = 1.2855504354071928e-06, f(x) = 1.652639921975623e-12\n",
            "Iteration 69: x = 1.0284403483257543e-06, f(x) = 1.0576895500643988e-12\n",
            "Iteration 70: x = 8.227522786606034e-07, f(x) = 6.769213120412152e-13\n",
            "Iteration 71: x = 6.582018229284827e-07, f(x) = 4.332296397063777e-13\n",
            "Iteration 72: x = 5.265614583427862e-07, f(x) = 2.7726696941208175e-13\n",
            "Iteration 73: x = 4.2124916667422894e-07, f(x) = 1.7745086042373232e-13\n",
            "Iteration 74: x = 3.3699933333938316e-07, f(x) = 1.1356855067118868e-13\n",
            "Iteration 75: x = 2.6959946667150655e-07, f(x) = 7.268387242956077e-14\n",
            "Iteration 76: x = 2.1567957333720524e-07, f(x) = 4.651767835491889e-14\n",
            "Iteration 77: x = 1.725436586697642e-07, f(x) = 2.977131414714809e-14\n",
            "Iteration 78: x = 1.3803492693581135e-07, f(x) = 1.9053641054174776e-14\n",
            "Iteration 79: x = 1.1042794154864907e-07, f(x) = 1.2194330274671856e-14\n",
            "Iteration 80: x = 8.834235323891926e-08, f(x) = 7.804371375789987e-15\n",
            "Iteration 81: x = 7.067388259113541e-08, f(x) = 4.994797680505593e-15\n",
            "Iteration 82: x = 5.653910607290833e-08, f(x) = 3.1966705155235794e-15\n",
            "Iteration 83: x = 4.5231284858326664e-08, f(x) = 2.045869129935091e-15\n",
            "Iteration 84: x = 3.618502788666133e-08, f(x) = 1.3093562431584582e-15\n",
            "Iteration 85: x = 2.8948022309329066e-08, f(x) = 8.379879956214133e-16\n",
            "Iteration 86: x = 2.3158417847463252e-08, f(x) = 5.363123171977045e-16\n",
            "Iteration 87: x = 1.8526734277970603e-08, f(x) = 3.432398830065309e-16\n",
            "Iteration 88: x = 1.4821387422376482e-08, f(x) = 2.1967352512417976e-16\n",
            "Iteration 89: x = 1.1857109937901186e-08, f(x) = 1.4059105607947506e-16\n",
            "Iteration 90: x = 9.485687950320948e-09, f(x) = 8.997827589086403e-17\n",
            "Iteration 91: x = 7.588550360256759e-09, f(x) = 5.758609657015299e-17\n",
            "Iteration 92: x = 6.070840288205408e-09, f(x) = 3.6855101804897916e-17\n",
            "Iteration 93: x = 4.856672230564326e-09, f(x) = 2.3587265155134666e-17\n",
            "Iteration 94: x = 3.885337784451461e-09, f(x) = 1.509584969928619e-17\n",
            "Iteration 95: x = 3.108270227561169e-09, f(x) = 9.661343807543161e-18\n",
            "Iteration 96: x = 2.4866161820489353e-09, f(x) = 6.1832600368276235e-18\n",
            "Iteration 97: x = 1.989292945639148e-09, f(x) = 3.957286423569678e-18\n",
            "Iteration 98: x = 1.5914343565113183e-09, f(x) = 2.532663311084594e-18\n",
            "Iteration 99: x = 1.2731474852090548e-09, f(x) = 1.6209045190941403e-18\n",
            "Iteration 100: x = 1.0185179881672439e-09, f(x) = 1.0373788922202499e-18\n",
            "Final value: x = 1.0185179881672439e-09, f(x) = 1.0373788922202499e-18\n"
          ]
        }
      ]
    },
    {
      "cell_type": "code",
      "source": [
        "# ... (function and derivative definitions from previous example) ...\n",
        "\n",
        "# Initialize parameters with momentum\n",
        "learning_rate = 0.1\n",
        "momentum = 0.9\n",
        "num_iterations = 100\n",
        "initial_x = 5\n",
        "velocity = 0\n",
        "\n",
        "# Gradient descent loop with momentum\n",
        "x = initial_x\n",
        "for i in range(num_iterations):\n",
        "  gradient = df(x)\n",
        "  velocity = momentum * velocity - learning_rate * gradient\n",
        "  x = x + velocity\n",
        "  print(f\"Iteration {i+1}: x = {x}, f(x) = {f(x)}\")\n",
        "\n",
        "print(f\"Final value: x = {x}, f(x) = {f(x)}\")"
      ],
      "metadata": {
        "id": "zk7_-ZeORbvs",
        "outputId": "ca0dcd10-92ac-4de6-ae63-6fe629812c62",
        "colab": {
          "base_uri": "https://localhost:8080/"
        }
      },
      "execution_count": 43,
      "outputs": [
        {
          "output_type": "stream",
          "name": "stdout",
          "text": [
            "Iteration 1: x = 4.0, f(x) = 16.0\n",
            "Iteration 2: x = 2.3, f(x) = 5.289999999999999\n",
            "Iteration 3: x = 0.3099999999999996, f(x) = 0.09609999999999976\n",
            "Iteration 4: x = -1.5430000000000004, f(x) = 2.3808490000000013\n",
            "Iteration 5: x = -2.9021, f(x) = 8.42218441\n",
            "Iteration 6: x = -3.5448699999999995, f(x) = 12.566103316899996\n",
            "Iteration 7: x = -3.4143889999999995, f(x) = 11.658052243320997\n",
            "Iteration 8: x = -2.614078299999999, f(x) = 6.833405358530886\n",
            "Iteration 9: x = -1.3709830099999991, f(x) = 1.8795944137086578\n",
            "Iteration 10: x = 0.021999353000000665, f(x) = 0.0004839715324186383\n",
            "Iteration 11: x = 1.2712836091000004, f(x) = 1.6161620147663225\n",
            "Iteration 12: x = 2.14138271777, f(x) = 4.585519943964031\n",
            "Iteration 13: x = 2.4961953720189998, f(x) = 6.2309913352890725\n",
            "Iteration 14: x = 2.3162876864392996, f(x) = 5.365188646350323\n",
            "Iteration 15: x = 1.6911132321297095, f(x) = 2.8598639638841927\n",
            "Iteration 16: x = 0.7902335768251365, f(x) = 0.6244691059418489\n",
            "Iteration 17: x = -0.1786048283140066, f(x) = 0.03189968469707577\n",
            "Iteration 18: x = -1.014838427276434, f(x) = 1.0298970334769058\n",
            "Iteration 19: x = -1.564480980887332, f(x) = 2.447600739558188\n",
            "Iteration 20: x = -1.7462630829596737, f(x) = 3.049434754907824\n",
            "Iteration 21: x = -1.5606143582328467, f(x) = 2.43551717512252\n",
            "Iteration 22: x = -1.0814076343321328, f(x) = 1.16944247159182\n",
            "Iteration 23: x = -0.4338400559550638, f(x) = 0.1882171941510929\n",
            "Iteration 24: x = 0.2357387757753111, f(x) = 0.055572770404042404\n",
            "Iteration 25: x = 0.7912119691775863, f(x) = 0.6260163801698737\n",
            "Iteration 26: x = 1.1328954494041166, f(x) = 1.2834520992805551\n",
            "Iteration 27: x = 1.2138314917271706, f(x) = 1.4733868903086083\n",
            "Iteration 28: x = 1.043907631472485, f(x) = 1.089743143046494\n",
            "Iteration 29: x = 0.6821946309487712, f(x) = 0.4653895144953301\n",
            "Iteration 30: x = 0.22021400428767435, f(x) = 0.04849420768441186\n",
            "Iteration 31: x = -0.23961136056484772, f(x) = 0.05741360411173746\n",
            "Iteration 32: x = -0.605531916819148, f(x) = 0.36666890228667154\n",
            "Iteration 33: x = -0.8137540340841887, f(x) = 0.6621956279882909\n",
            "Iteration 34: x = -0.8384031328058876, f(x) = 0.7029198130987269\n",
            "Iteration 35: x = -0.6929066950942391, f(x) = 0.4801196881064208\n",
            "Iteration 36: x = -0.4233785621349076, f(x) = 0.17924940687542182\n",
            "Iteration 37: x = -0.09612753004452773, f(x) = 0.009240502032461581\n",
            "Iteration 38: x = 0.2176239048457197, f(x) = 0.04736016396029886\n",
            "Iteration 39: x = 0.45647541527779845, f(x) = 0.20836980475303854\n",
            "Iteration 40: x = 0.5801466916111095, f(x) = 0.33657018378731585\n",
            "Iteration 41: x = 0.5754215019888677, f(x) = 0.3311099049511244\n",
            "Iteration 42: x = 0.4560845309310764, f(x) = 0.20801309935462\n",
            "Iteration 43: x = 0.257464350792849, f(x) = 0.06628789192918322\n",
            "Iteration 44: x = 0.027213318509874518, f(x) = 0.0007405647043198791\n",
            "Iteration 45: x = -0.18545527424677744, f(x) = 0.03439365874594743\n",
            "Iteration 46: x = -0.3397659528784087, f(x) = 0.11544090273537305\n",
            "Iteration 47: x = -0.4106923730711951, f(x) = 0.1686682252988497\n",
            "Iteration 48: x = -0.39238767663046387, f(x) = 0.1539680887714535\n",
            "Iteration 49: x = -0.29743591450771295, f(x) = 0.08846812323903953\n",
            "Iteration 50: x = -0.15249214569569455, f(x) = 0.023253854498876934\n",
            "Iteration 51: x = 0.008455675374260924, f(x) = 7.149844603488261e-05\n",
            "Iteration 52: x = 0.15161757926236866, f(x) = 0.022987890341380643\n",
            "Iteration 53: x = 0.25013977690919187, f(x) = 0.06256990799218028\n",
            "Iteration 54: x = 0.2887817994094944, f(x) = 0.08339492767018546\n",
            "Iteration 55: x = 0.2658032597778678, f(x) = 0.07065137290854066\n",
            "Iteration 56: x = 0.1919619221538303, f(x) = 0.0368493795569932\n",
            "Iteration 57: x = 0.08711233386143048, f(x) = 0.007588558710785328\n",
            "Iteration 58: x = -0.024674762374015433, f(x) = 0.0006088438982141277\n",
            "Iteration 59: x = -0.12034819651111367, f(x) = 0.014483688403477633\n",
            "Iteration 60: x = -0.18238464793227935, f(x) = 0.03326415980138149\n",
            "Iteration 61: x = -0.20174052462487257, f(x) = 0.04069923927591882\n",
            "Iteration 62: x = -0.17881270872323196, f(x) = 0.031973984800939395\n",
            "Iteration 63: x = -0.12241513266710903, f(x) = 0.014985464705905905\n",
            "Iteration 64: x = -0.04717428768317658, f(x) = 0.0022254134184151054\n",
            "Iteration 65: x = 0.029977330338997937, f(x) = 0.0008986403342534062\n",
            "Iteration 66: x = 0.09341832049115542, f(x) = 0.00872698260338823\n",
            "Iteration 67: x = 0.1318315475298661, f(x) = 0.01737955692411934\n",
            "Iteration 68: x = 0.14003714235873246, f(x) = 0.0196104012399999\n",
            "Iteration 69: x = 0.1194147492329657, f(x) = 0.014259882334372084\n",
            "Iteration 70: x = 0.07697164557318248, f(x) = 0.005924634222243622\n",
            "Iteration 71: x = 0.02337852316474108, f(x) = 0.0005465553453643353\n",
            "Iteration 72: x = -0.029530991635804395, f(x) = 0.0008720794669939491\n",
            "Iteration 73: x = -0.07124335662913445, f(x) = 0.005075615863786035\n",
            "Iteration 74: x = -0.09453581379730461, f(x) = 0.008937020090318649\n",
            "Iteration 75: x = -0.09659186248919682, f(x) = 0.009329987899131907\n",
            "Iteration 76: x = -0.07912393381406045, f(x) = 0.0062605969022118185\n",
            "Iteration 77: x = -0.04757801124362562, f(x) = 0.0022636671538985662\n",
            "Iteration 78: x = -0.009671078681509154, f(x) = 9.352976286394085e-05\n",
            "Iteration 79: x = 0.026379376360697496, f(x) = 0.0006958714971793258\n",
            "Iteration 80: x = 0.05354891062654398, f(x) = 0.002867485829289595\n",
            "Iteration 81: x = 0.06729170934049702, f(x) = 0.004528174145965935\n",
            "Iteration 82: x = 0.06620188631495535, f(x) = 0.004382689751658273\n",
            "Iteration 83: x = 0.051980668328976784, f(x) = 0.00270198987992709\n",
            "Iteration 84: x = 0.028785438475800708, f(x) = 0.0008286014682441078\n",
            "Iteration 85: x = 0.0021526439127820957, f(x) = 4.63387581523781e-06\n",
            "Iteration 86: x = -0.022247399976491073, f(x) = 0.000494946805713975\n",
            "Iteration 87: x = -0.03975795948153871, f(x) = 0.0015806953421356735\n",
            "Iteration 88: x = -0.04756587113977384, f(x) = 0.00226251209728557\n",
            "Iteration 89: x = -0.04507981740423069, f(x) = 0.00203218993719878\n",
            "Iteration 90: x = -0.03382640556139572, f(x) = 0.0011442257132040232\n",
            "Iteration 91: x = -0.016933053790565096, f(x) = 0.00028672831067417094\n",
            "Iteration 92: x = 0.0016575735612954848, f(x) = 2.7475501111057963e-06\n",
            "Iteration 93: x = 0.018057623465710913, f(x) = 0.0003260777652293934\n",
            "Iteration 94: x = 0.02920614368654262, f(x) = 0.0008529988290389732\n",
            "Iteration 95: x = 0.03339858314798263, f(x) = 0.0011154653562927093\n",
            "Iteration 96: x = 0.030492062033682113, f(x) = 0.0009297658470659182\n",
            "Iteration 97: x = 0.021777780624075226, f(x) = 0.0004742717289103463\n",
            "Iteration 98: x = 0.009579371230613979, f(x) = 9.176435317391478e-05\n",
            "Iteration 99: x = -0.003315071469623938, f(x) = 1.0989698848714616e-05\n",
            "Iteration 100: x = -0.014257055605913276, f(x) = 0.00020326363455010316\n",
            "Final value: x = -0.014257055605913276, f(x) = 0.00020326363455010316\n"
          ]
        }
      ]
    },
    {
      "cell_type": "code",
      "source": [
        "import numpy as np\n",
        "import matplotlib.pyplot as plt\n",
        "\n",
        "# Define the function to optimize\n",
        "def f(x):\n",
        "  return x**2\n",
        "\n",
        "# Define the derivative of the function\n",
        "def df(x):\n",
        "  return 2*x\n",
        "\n",
        "# Initialize parameters\n",
        "learning_rate = 0.1\n",
        "num_iterations = 100\n",
        "initial_x = 5\n",
        "\n",
        "# Lists to store values for plotting\n",
        "x_values = [initial_x]\n",
        "f_values = [f(initial_x)]\n",
        "\n",
        "# Gradient descent loop\n",
        "x = initial_x\n",
        "for i in range(num_iterations):\n",
        "  gradient = df(x)\n",
        "  x = x - learning_rate * gradient\n",
        "  x_values.append(x)\n",
        "  f_values.append(f(x))\n",
        "\n",
        "# Plotting\n",
        "plt.plot(x_values, f_values, marker='o')\n",
        "plt.xlabel('x')\n",
        "plt.ylabel('f(x)')\n",
        "plt.title('Gradient Descent Optimization')\n",
        "plt.show()"
      ],
      "metadata": {
        "id": "OQD2MOxKRgsN",
        "outputId": "dd5a3df2-12eb-4932-9c76-c76ab94d22e8",
        "colab": {
          "base_uri": "https://localhost:8080/",
          "height": 472
        }
      },
      "execution_count": 44,
      "outputs": [
        {
          "output_type": "display_data",
          "data": {
            "text/plain": [
              "<Figure size 640x480 with 1 Axes>"
            ],
            "image/png": "[encoded data removed]"
          },
          "metadata": {}
        }
      ]
    },
    {
      "cell_type": "code",
      "source": [
        "#cost function\n",
        "def cost_function(x,y,w,b):\n",
        "    n=x.shape[0]\n",
        "    cost = 0\n",
        "    for i in range(n):\n",
        "      j_wb=w*x[i]+b\n",
        "      diff = j_wb-y[i]\n",
        "      cost = cost + (diff)**2\n",
        "      total_cost=1/(2*n)*cost\n",
        "      print(diff, cost, total_cost)\n",
        "    return total_cost"
      ],
      "metadata": {
        "id": "s5DDaGACRoJk"
      },
      "execution_count": 45,
      "outputs": []
    },
    {
      "cell_type": "code",
      "source": [],
      "metadata": {
        "id": "CFsXe4N54sNQ"
      },
      "execution_count": null,
      "outputs": []
    }
  ]
}